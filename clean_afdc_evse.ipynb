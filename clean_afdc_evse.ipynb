{
 "cells": [
  {
   "cell_type": "code",
   "execution_count": 1,
   "id": "fe8dce97",
   "metadata": {},
   "outputs": [],
   "source": [
    "import math\n",
    "import pandas as pd"
   ]
  },
  {
   "cell_type": "code",
   "execution_count": 2,
   "id": "026e51a0",
   "metadata": {},
   "outputs": [],
   "source": [
    "def isNaN(string):\n",
    "    return string!=string"
   ]
  },
  {
   "cell_type": "code",
   "execution_count": 3,
   "id": "85b17476",
   "metadata": {},
   "outputs": [],
   "source": [
    "# Read in what already exists in the AFDC data\n",
    "afdc_data_raw = pd.read_csv('~/Desktop/stl/wsdot_evse/built_evse_or.csv')\n",
    "afdc_data = afdc_data_raw[['id','city','state','zip','ev_level2_evse_num','ev_level1_evse_num','ev_dc_fast_num',\n",
    "                          'ev_network','Y','X','open_date','ev_connector_types','ev_pricing','country']].copy()\n",
    "\n",
    "# Add required variables for database\n",
    "afdc_data['connector_code'] = -1\n",
    "afdc_data['dcfc_fixed_charging_price'] = 0\n",
    "afdc_data['dcfc_var_charging_price_unit'] = 0\n",
    "afdc_data['dcfc_var_charging_price'] = 0\n",
    "afdc_data['dcfc_fixed_parking_price'] = 0\n",
    "afdc_data['dcfc_var_parking_price_unt'] = 0\n",
    "afdc_data['dcfc_var_parking_price'] = 0\n",
    "afdc_data['in_service'] = afdc_data_raw['status_code']\n",
    "\n",
    "afdc_columns = ['bevse_id','city','state','zip','level2_count','level1_count','dcfc_count',\n",
    "               'ev_network','latitude','longitude','open_date','ev_connector_types','ev_pricing',\n",
    "               'country','connector_code','dcfc_fixed_charging_price','dcfc_var_charging_price_unit',\n",
    "               'dcfc_var_charging_price','dcfc_fixed_parking_price','dcfc_var_parking_price_unt',\n",
    "               'dcfc_var_parking_price','in_service']\n",
    "afdc_data.columns = afdc_columns\n",
    "\n",
    "# Modify individual variables to match the database values\n",
    "new_open_date = []\n",
    "new_ev_connector_codes = []\n",
    "new_in_service = []\n",
    "\n",
    "for i, row in afdc_data.iterrows():\n",
    "    new_open_date.append(row['open_date'].replace('/','-'))\n",
    "    if isNaN(row['ev_connector_types']):\n",
    "        new_ev_connector_codes.append(0)\n",
    "    elif 'CHADEMO' in row['ev_connector_types'] and 'COMBO' in row['ev_connector_types']:\n",
    "        new_ev_connector_codes.append(3)\n",
    "    elif 'COMBO' in row['ev_connector_types']:\n",
    "        new_ev_connector_codes.append(2)\n",
    "    elif 'CHADEMO' in row['ev_connector_types']:\n",
    "        new_ev_connector_codes.append(1)\n",
    "    elif 'TESLA' in row['ev_connector_types']:\n",
    "        new_ev_connector_codes.append(4)\n",
    "    else:\n",
    "        new_ev_connector_codes.append(0)\n",
    "        \n",
    "    if row['in_service'] == 'E':\n",
    "        new_in_service.append(1)\n",
    "    else:\n",
    "        new_in_service.append(0)\n",
    "\n",
    "afdc_data['open_date'] = new_open_date\n",
    "afdc_data['connector_code'] = new_ev_connector_codes\n",
    "afdc_data['in_service'] = new_in_service\n",
    "\n",
    "afdc_data.to_csv('~/Desktop/stl/wsdot_evse/built_evse_or_processed.csv')"
   ]
  }
 ],
 "metadata": {
  "kernelspec": {
   "display_name": "Python 3 (ipykernel)",
   "language": "python",
   "name": "python3"
  },
  "language_info": {
   "codemirror_mode": {
    "name": "ipython",
    "version": 3
   },
   "file_extension": ".py",
   "mimetype": "text/x-python",
   "name": "python",
   "nbconvert_exporter": "python",
   "pygments_lexer": "ipython3",
   "version": "3.9.7"
  }
 },
 "nbformat": 4,
 "nbformat_minor": 5
}
